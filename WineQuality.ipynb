{
 "cells": [
  {
   "cell_type": "markdown",
   "metadata": {},
   "source": [
    "<h1 align=\"center\"><font size=\"6\">Qualidade Vinho Tinto</font></h1>"
   ]
  },
  {
   "cell_type": "markdown",
   "metadata": {},
   "source": [
    "Nesse trabalho, será desenvolvido um modelo capaz de classificar a qualidade de um vinho tinto atráves de modelo de regressão e de árvore de decisão."
   ]
  },
  {
   "cell_type": "markdown",
   "metadata": {},
   "source": [
    "### Importando os dados e bibliotecas\n",
    "\n",
    "Dados importados foram fornecidos peolo Kaggle em https://www.kaggle.com/uciml/red-wine-quality-cortez-et-al-2009/data"
   ]
  },
  {
   "cell_type": "code",
   "execution_count": 322,
   "metadata": {},
   "outputs": [],
   "source": [
    "import pandas as pd\n",
    "import pylab as pl\n",
    "import numpy as np\n",
    "import scipy.optimize as opt\n",
    "from sklearn import preprocessing\n",
    "%matplotlib inline \n",
    "import matplotlib.pyplot as plt\n",
    "from sklearn import preprocessing\n",
    "from sklearn.model_selection import train_test_split\n",
    "from sklearn.linear_model import LogisticRegression\n",
    "from sklearn.metrics import confusion_matrix\n",
    "from sklearn.tree import DecisionTreeClassifier"
   ]
  },
  {
   "cell_type": "code",
   "execution_count": 323,
   "metadata": {},
   "outputs": [
    {
     "data": {
      "text/html": [
       "<div>\n",
       "<style scoped>\n",
       "    .dataframe tbody tr th:only-of-type {\n",
       "        vertical-align: middle;\n",
       "    }\n",
       "\n",
       "    .dataframe tbody tr th {\n",
       "        vertical-align: top;\n",
       "    }\n",
       "\n",
       "    .dataframe thead th {\n",
       "        text-align: right;\n",
       "    }\n",
       "</style>\n",
       "<table border=\"1\" class=\"dataframe\">\n",
       "  <thead>\n",
       "    <tr style=\"text-align: right;\">\n",
       "      <th></th>\n",
       "      <th>fixed acidity</th>\n",
       "      <th>volatile acidity</th>\n",
       "      <th>citric acid</th>\n",
       "      <th>residual sugar</th>\n",
       "      <th>chlorides</th>\n",
       "      <th>free sulfur dioxide</th>\n",
       "      <th>total sulfur dioxide</th>\n",
       "      <th>density</th>\n",
       "      <th>pH</th>\n",
       "      <th>sulphates</th>\n",
       "      <th>alcohol</th>\n",
       "      <th>quality</th>\n",
       "    </tr>\n",
       "  </thead>\n",
       "  <tbody>\n",
       "    <tr>\n",
       "      <th>0</th>\n",
       "      <td>7.4</td>\n",
       "      <td>0.70</td>\n",
       "      <td>0.00</td>\n",
       "      <td>1.9</td>\n",
       "      <td>0.076</td>\n",
       "      <td>11.0</td>\n",
       "      <td>34.0</td>\n",
       "      <td>0.9978</td>\n",
       "      <td>3.51</td>\n",
       "      <td>0.56</td>\n",
       "      <td>9.4</td>\n",
       "      <td>5</td>\n",
       "    </tr>\n",
       "    <tr>\n",
       "      <th>1</th>\n",
       "      <td>7.8</td>\n",
       "      <td>0.88</td>\n",
       "      <td>0.00</td>\n",
       "      <td>2.6</td>\n",
       "      <td>0.098</td>\n",
       "      <td>25.0</td>\n",
       "      <td>67.0</td>\n",
       "      <td>0.9968</td>\n",
       "      <td>3.20</td>\n",
       "      <td>0.68</td>\n",
       "      <td>9.8</td>\n",
       "      <td>5</td>\n",
       "    </tr>\n",
       "    <tr>\n",
       "      <th>2</th>\n",
       "      <td>7.8</td>\n",
       "      <td>0.76</td>\n",
       "      <td>0.04</td>\n",
       "      <td>2.3</td>\n",
       "      <td>0.092</td>\n",
       "      <td>15.0</td>\n",
       "      <td>54.0</td>\n",
       "      <td>0.9970</td>\n",
       "      <td>3.26</td>\n",
       "      <td>0.65</td>\n",
       "      <td>9.8</td>\n",
       "      <td>5</td>\n",
       "    </tr>\n",
       "    <tr>\n",
       "      <th>3</th>\n",
       "      <td>11.2</td>\n",
       "      <td>0.28</td>\n",
       "      <td>0.56</td>\n",
       "      <td>1.9</td>\n",
       "      <td>0.075</td>\n",
       "      <td>17.0</td>\n",
       "      <td>60.0</td>\n",
       "      <td>0.9980</td>\n",
       "      <td>3.16</td>\n",
       "      <td>0.58</td>\n",
       "      <td>9.8</td>\n",
       "      <td>6</td>\n",
       "    </tr>\n",
       "    <tr>\n",
       "      <th>4</th>\n",
       "      <td>7.4</td>\n",
       "      <td>0.70</td>\n",
       "      <td>0.00</td>\n",
       "      <td>1.9</td>\n",
       "      <td>0.076</td>\n",
       "      <td>11.0</td>\n",
       "      <td>34.0</td>\n",
       "      <td>0.9978</td>\n",
       "      <td>3.51</td>\n",
       "      <td>0.56</td>\n",
       "      <td>9.4</td>\n",
       "      <td>5</td>\n",
       "    </tr>\n",
       "  </tbody>\n",
       "</table>\n",
       "</div>"
      ],
      "text/plain": [
       "   fixed acidity  volatile acidity  citric acid  residual sugar  chlorides  \\\n",
       "0            7.4              0.70         0.00             1.9      0.076   \n",
       "1            7.8              0.88         0.00             2.6      0.098   \n",
       "2            7.8              0.76         0.04             2.3      0.092   \n",
       "3           11.2              0.28         0.56             1.9      0.075   \n",
       "4            7.4              0.70         0.00             1.9      0.076   \n",
       "\n",
       "   free sulfur dioxide  total sulfur dioxide  density    pH  sulphates  \\\n",
       "0                 11.0                  34.0   0.9978  3.51       0.56   \n",
       "1                 25.0                  67.0   0.9968  3.20       0.68   \n",
       "2                 15.0                  54.0   0.9970  3.26       0.65   \n",
       "3                 17.0                  60.0   0.9980  3.16       0.58   \n",
       "4                 11.0                  34.0   0.9978  3.51       0.56   \n",
       "\n",
       "   alcohol  quality  \n",
       "0      9.4        5  \n",
       "1      9.8        5  \n",
       "2      9.8        5  \n",
       "3      9.8        6  \n",
       "4      9.4        5  "
      ]
     },
     "execution_count": 323,
     "metadata": {},
     "output_type": "execute_result"
    }
   ],
   "source": [
    "wine_df = pd.read_csv(\"winequality-red.csv\", sep =',')\n",
    "wine_df.head()"
   ]
  },
  {
   "cell_type": "markdown",
   "metadata": {},
   "source": [
    "<h1 align=\"center\"><font size=\"6\"> Regressão Logistica</font></h1>"
   ]
  },
  {
   "cell_type": "markdown",
   "metadata": {},
   "source": [
    "Enquanto a Regressão Linear é adequada para estimar valores contínuos (por exemplo, estimar o preço de um imóvel), não é a melhor ferramenta para prever a classe de um ponto de dados observado. Para estimar a classe de um determinado dado, precisamos de algum tipo de orientação sobre a qual seria a **classe mais provável** para esse dado. Para isso, usamos **Regressão Logística**.\n",
    "\n",
    "<div class=\"alert alert-success alertsuccess\" style=\"margin-top: 20px\">\n",
    "<font size = 3><strong>Relembrando a Regressão Linear:</strong></font>\n",
    "<br>\n",
    "<br>\n",
    "    Como você sabe, a <b>regressão linear</b> encontra uma função que relaciona uma variável dependente contínua, <b>y</b>, a alguns preditores (variáveis independentes $x_1$, $x_2$, etc.). Por exemplo, a regressão linear simples assume uma função da forma:\n",
    "<br><br>\n",
    "$$\n",
    "y = \\theta_0 + \\theta_1  x_1 + \\theta_2  x_2 + \\cdots\n",
    "$$\n",
    "<br>\n",
    "e encontra os valores dos parâmetros $\\theta_0, \\theta_1, \\theta_2$, etc, onde o termo $\\theta_0$ é o \"intercepto\". Pode ser geralmente mostrado como:\n",
    "<br><br>\n",
    "$$\n",
    "ℎ_\\theta(𝑥) = \\theta^TX\n",
    "$$\n",
    "<p></p>\n",
    "\n",
    "</div>\n",
    "A **Regressão Logística** é uma variação da Regressão Linear. É útil quando a variável dependente observada, <b>y</b>, é categórica. Ela produz uma fórmula que prevê a probabilidade do rótulo da classe como uma função das variáveis independentes.\n",
    "\n",
    "A regressão logística ajusta-se a uma curva especial em forma de s tomando a regressão linear e transformando a estimativa numérica em uma probabilidade com a seguinte função, denominada função sigmoide 𝜎:\n",
    "$$\n",
    "ℎ_\\theta(𝑥) = \\sigma({\\theta^TX}) =  \\frac {e^{(\\theta_0 + \\theta_1  x_1 + \\theta_2  x_2 +...)}}{1 + e^{(\\theta_0 + \\theta_1  x_1 + \\theta_2  x_2 +\\cdots)}}\n",
    "$$\n",
    "Ou:\n",
    "$$\n",
    "ProbabilidadeDaClasse_1 =  P(Y=1|X) = \\sigma({\\theta^TX}) = \\frac{e^{\\theta^TX}}{1+e^{\\theta^TX}} \n",
    "$$\n",
    "\n",
    "Nesta equação, ${\\theta^TX}$ é o resultado da regressão (a soma das variáveis ponderadas pelos coeficientes), 'exp' é a função exponencial e $\\sigma(\\theta^TX)$ é a função sigmóide ou [logística] (http: //en.wikipedia .org / wiki / Logistic_function), também chamado de curva logística, e possui o formato de um \"S\" (curva sigmóide).\n",
    "\n",
    "Então, resumidamente, a regressão logística passa a entrada através da função logística/sigmoide, mas depois trata o resultado como uma probabilidade:\n",
    "\n",
    "<img\n",
    "src=\"https://ibm.box.com/shared/static/kgv9alcghmjcv97op4d6onkyxevk23b1.png\" width=\"400\" align=\"center\">\n",
    "\n",
    "O objetivo do algoritmo de __Regressão Logística__, é encontrar os melhores parâmetros θ, para $ ℎ_\\theta(𝑥)$ = $\\sigma({\\theta^TX})$, de tal forma que o modelo prediga melhor a classe de cada caso. \n",
    "\n",
    "#### Material retirado da própria aula, para melhor exemplificar"
   ]
  },
  {
   "cell_type": "code",
   "execution_count": 324,
   "metadata": {},
   "outputs": [
    {
     "data": {
      "text/html": [
       "<div>\n",
       "<style scoped>\n",
       "    .dataframe tbody tr th:only-of-type {\n",
       "        vertical-align: middle;\n",
       "    }\n",
       "\n",
       "    .dataframe tbody tr th {\n",
       "        vertical-align: top;\n",
       "    }\n",
       "\n",
       "    .dataframe thead th {\n",
       "        text-align: right;\n",
       "    }\n",
       "</style>\n",
       "<table border=\"1\" class=\"dataframe\">\n",
       "  <thead>\n",
       "    <tr style=\"text-align: right;\">\n",
       "      <th></th>\n",
       "      <th>fixed acidity</th>\n",
       "      <th>volatile acidity</th>\n",
       "      <th>residual sugar</th>\n",
       "      <th>chlorides</th>\n",
       "      <th>free sulfur dioxide</th>\n",
       "      <th>pH</th>\n",
       "      <th>density</th>\n",
       "      <th>sulphates</th>\n",
       "      <th>quality</th>\n",
       "    </tr>\n",
       "  </thead>\n",
       "  <tbody>\n",
       "    <tr>\n",
       "      <th>0</th>\n",
       "      <td>7.4</td>\n",
       "      <td>0.70</td>\n",
       "      <td>1.9</td>\n",
       "      <td>0.076</td>\n",
       "      <td>11.0</td>\n",
       "      <td>3.51</td>\n",
       "      <td>0.9978</td>\n",
       "      <td>0.56</td>\n",
       "      <td>5</td>\n",
       "    </tr>\n",
       "    <tr>\n",
       "      <th>1</th>\n",
       "      <td>7.8</td>\n",
       "      <td>0.88</td>\n",
       "      <td>2.6</td>\n",
       "      <td>0.098</td>\n",
       "      <td>25.0</td>\n",
       "      <td>3.20</td>\n",
       "      <td>0.9968</td>\n",
       "      <td>0.68</td>\n",
       "      <td>5</td>\n",
       "    </tr>\n",
       "    <tr>\n",
       "      <th>2</th>\n",
       "      <td>7.8</td>\n",
       "      <td>0.76</td>\n",
       "      <td>2.3</td>\n",
       "      <td>0.092</td>\n",
       "      <td>15.0</td>\n",
       "      <td>3.26</td>\n",
       "      <td>0.9970</td>\n",
       "      <td>0.65</td>\n",
       "      <td>5</td>\n",
       "    </tr>\n",
       "    <tr>\n",
       "      <th>3</th>\n",
       "      <td>11.2</td>\n",
       "      <td>0.28</td>\n",
       "      <td>1.9</td>\n",
       "      <td>0.075</td>\n",
       "      <td>17.0</td>\n",
       "      <td>3.16</td>\n",
       "      <td>0.9980</td>\n",
       "      <td>0.58</td>\n",
       "      <td>6</td>\n",
       "    </tr>\n",
       "    <tr>\n",
       "      <th>4</th>\n",
       "      <td>7.4</td>\n",
       "      <td>0.70</td>\n",
       "      <td>1.9</td>\n",
       "      <td>0.076</td>\n",
       "      <td>11.0</td>\n",
       "      <td>3.51</td>\n",
       "      <td>0.9978</td>\n",
       "      <td>0.56</td>\n",
       "      <td>5</td>\n",
       "    </tr>\n",
       "  </tbody>\n",
       "</table>\n",
       "</div>"
      ],
      "text/plain": [
       "   fixed acidity  volatile acidity  residual sugar  chlorides  \\\n",
       "0            7.4              0.70             1.9      0.076   \n",
       "1            7.8              0.88             2.6      0.098   \n",
       "2            7.8              0.76             2.3      0.092   \n",
       "3           11.2              0.28             1.9      0.075   \n",
       "4            7.4              0.70             1.9      0.076   \n",
       "\n",
       "   free sulfur dioxide    pH  density  sulphates  quality  \n",
       "0                 11.0  3.51   0.9978       0.56        5  \n",
       "1                 25.0  3.20   0.9968       0.68        5  \n",
       "2                 15.0  3.26   0.9970       0.65        5  \n",
       "3                 17.0  3.16   0.9980       0.58        6  \n",
       "4                 11.0  3.51   0.9978       0.56        5  "
      ]
     },
     "execution_count": 324,
     "metadata": {},
     "output_type": "execute_result"
    }
   ],
   "source": [
    "wine_df = wine_df[['fixed acidity', 'volatile acidity', 'residual sugar', 'chlorides', 'free sulfur dioxide', 'pH', 'density', 'sulphates', 'quality']]\n",
    "wine_df['quality'] = wine_df['quality'].astype('int')\n",
    "wine_df.head()"
   ]
  },
  {
   "cell_type": "code",
   "execution_count": 325,
   "metadata": {
    "scrolled": true
   },
   "outputs": [
    {
     "data": {
      "text/plain": [
       "array([[7.40e+00, 7.00e-01, 1.90e+00, 7.60e-02, 1.10e+01, 3.51e+00,\n",
       "        9.98e-01],\n",
       "       [7.80e+00, 8.80e-01, 2.60e+00, 9.80e-02, 2.50e+01, 3.20e+00,\n",
       "        9.97e-01],\n",
       "       [7.80e+00, 7.60e-01, 2.30e+00, 9.20e-02, 1.50e+01, 3.26e+00,\n",
       "        9.97e-01],\n",
       "       [1.12e+01, 2.80e-01, 1.90e+00, 7.50e-02, 1.70e+01, 3.16e+00,\n",
       "        9.98e-01],\n",
       "       [7.40e+00, 7.00e-01, 1.90e+00, 7.60e-02, 1.10e+01, 3.51e+00,\n",
       "        9.98e-01],\n",
       "       [7.40e+00, 6.60e-01, 1.80e+00, 7.50e-02, 1.30e+01, 3.51e+00,\n",
       "        9.98e-01],\n",
       "       [7.90e+00, 6.00e-01, 1.60e+00, 6.90e-02, 1.50e+01, 3.30e+00,\n",
       "        9.96e-01],\n",
       "       [7.30e+00, 6.50e-01, 1.20e+00, 6.50e-02, 1.50e+01, 3.39e+00,\n",
       "        9.95e-01],\n",
       "       [7.80e+00, 5.80e-01, 2.00e+00, 7.30e-02, 9.00e+00, 3.36e+00,\n",
       "        9.97e-01],\n",
       "       [7.50e+00, 5.00e-01, 6.10e+00, 7.10e-02, 1.70e+01, 3.35e+00,\n",
       "        9.98e-01],\n",
       "       [6.70e+00, 5.80e-01, 1.80e+00, 9.70e-02, 1.50e+01, 3.28e+00,\n",
       "        9.96e-01],\n",
       "       [7.50e+00, 5.00e-01, 6.10e+00, 7.10e-02, 1.70e+01, 3.35e+00,\n",
       "        9.98e-01],\n",
       "       [5.60e+00, 6.15e-01, 1.60e+00, 8.90e-02, 1.60e+01, 3.58e+00,\n",
       "        9.94e-01],\n",
       "       [7.80e+00, 6.10e-01, 1.60e+00, 1.14e-01, 9.00e+00, 3.26e+00,\n",
       "        9.97e-01],\n",
       "       [8.90e+00, 6.20e-01, 3.80e+00, 1.76e-01, 5.20e+01, 3.16e+00,\n",
       "        9.99e-01],\n",
       "       [8.90e+00, 6.20e-01, 3.90e+00, 1.70e-01, 5.10e+01, 3.17e+00,\n",
       "        9.99e-01],\n",
       "       [8.50e+00, 2.80e-01, 1.80e+00, 9.20e-02, 3.50e+01, 3.30e+00,\n",
       "        9.97e-01],\n",
       "       [8.10e+00, 5.60e-01, 1.70e+00, 3.68e-01, 1.60e+01, 3.11e+00,\n",
       "        9.97e-01],\n",
       "       [7.40e+00, 5.90e-01, 4.40e+00, 8.60e-02, 6.00e+00, 3.38e+00,\n",
       "        9.97e-01],\n",
       "       [7.90e+00, 3.20e-01, 1.80e+00, 3.41e-01, 1.70e+01, 3.04e+00,\n",
       "        9.97e-01],\n",
       "       [8.90e+00, 2.20e-01, 1.80e+00, 7.70e-02, 2.90e+01, 3.39e+00,\n",
       "        9.97e-01],\n",
       "       [7.60e+00, 3.90e-01, 2.30e+00, 8.20e-02, 2.30e+01, 3.52e+00,\n",
       "        9.98e-01],\n",
       "       [7.90e+00, 4.30e-01, 1.60e+00, 1.06e-01, 1.00e+01, 3.17e+00,\n",
       "        9.97e-01],\n",
       "       [8.50e+00, 4.90e-01, 2.30e+00, 8.40e-02, 9.00e+00, 3.17e+00,\n",
       "        9.97e-01],\n",
       "       [6.90e+00, 4.00e-01, 2.40e+00, 8.50e-02, 2.10e+01, 3.43e+00,\n",
       "        9.97e-01],\n",
       "       [6.30e+00, 3.90e-01, 1.40e+00, 8.00e-02, 1.10e+01, 3.34e+00,\n",
       "        9.96e-01],\n",
       "       [7.60e+00, 4.10e-01, 1.80e+00, 8.00e-02, 4.00e+00, 3.28e+00,\n",
       "        9.96e-01],\n",
       "       [7.90e+00, 4.30e-01, 1.60e+00, 1.06e-01, 1.00e+01, 3.17e+00,\n",
       "        9.97e-01],\n",
       "       [7.10e+00, 7.10e-01, 1.90e+00, 8.00e-02, 1.40e+01, 3.47e+00,\n",
       "        9.97e-01],\n",
       "       [7.80e+00, 6.45e-01, 2.00e+00, 8.20e-02, 8.00e+00, 3.38e+00,\n",
       "        9.96e-01],\n",
       "       [6.70e+00, 6.75e-01, 2.40e+00, 8.90e-02, 1.70e+01, 3.35e+00,\n",
       "        9.96e-01],\n",
       "       [6.90e+00, 6.85e-01, 2.50e+00, 1.05e-01, 2.20e+01, 3.46e+00,\n",
       "        9.97e-01],\n",
       "       [8.30e+00, 6.55e-01, 2.30e+00, 8.30e-02, 1.50e+01, 3.17e+00,\n",
       "        9.97e-01],\n",
       "       [6.90e+00, 6.05e-01, 1.07e+01, 7.30e-02, 4.00e+01, 3.45e+00,\n",
       "        9.99e-01],\n",
       "       [5.20e+00, 3.20e-01, 1.80e+00, 1.03e-01, 1.30e+01, 3.38e+00,\n",
       "        9.96e-01],\n",
       "       [7.80e+00, 6.45e-01, 5.50e+00, 8.60e-02, 5.00e+00, 3.40e+00,\n",
       "        9.99e-01],\n",
       "       [7.80e+00, 6.00e-01, 2.40e+00, 8.60e-02, 3.00e+00, 3.42e+00,\n",
       "        9.98e-01],\n",
       "       [8.10e+00, 3.80e-01, 2.10e+00, 6.60e-02, 1.30e+01, 3.23e+00,\n",
       "        9.97e-01],\n",
       "       [5.70e+00, 1.13e+00, 1.50e+00, 1.72e-01, 7.00e+00, 3.50e+00,\n",
       "        9.94e-01],\n",
       "       [7.30e+00, 4.50e-01, 5.90e+00, 7.40e-02, 1.20e+01, 3.33e+00,\n",
       "        9.98e-01],\n",
       "       [7.30e+00, 4.50e-01, 5.90e+00, 7.40e-02, 1.20e+01, 3.33e+00,\n",
       "        9.98e-01],\n",
       "       [8.80e+00, 6.10e-01, 2.80e+00, 8.80e-02, 1.70e+01, 3.26e+00,\n",
       "        9.98e-01],\n",
       "       [7.50e+00, 4.90e-01, 2.60e+00, 3.32e-01, 8.00e+00, 3.21e+00,\n",
       "        9.97e-01],\n",
       "       [8.10e+00, 6.60e-01, 2.20e+00, 6.90e-02, 9.00e+00, 3.30e+00,\n",
       "        9.97e-01],\n",
       "       [6.80e+00, 6.70e-01, 1.80e+00, 5.00e-02, 5.00e+00, 3.48e+00,\n",
       "        9.96e-01],\n",
       "       [4.60e+00, 5.20e-01, 2.10e+00, 5.40e-02, 8.00e+00, 3.90e+00,\n",
       "        9.93e-01],\n",
       "       [7.70e+00, 9.35e-01, 2.20e+00, 1.14e-01, 2.20e+01, 3.25e+00,\n",
       "        9.97e-01],\n",
       "       [8.70e+00, 2.90e-01, 1.60e+00, 1.13e-01, 1.20e+01, 3.25e+00,\n",
       "        9.97e-01],\n",
       "       [6.40e+00, 4.00e-01, 1.60e+00, 6.60e-02, 5.00e+00, 3.34e+00,\n",
       "        9.96e-01],\n",
       "       [5.60e+00, 3.10e-01, 1.40e+00, 7.40e-02, 1.20e+01, 3.32e+00,\n",
       "        9.95e-01],\n",
       "       [8.80e+00, 6.60e-01, 1.70e+00, 7.40e-02, 4.00e+00, 3.15e+00,\n",
       "        9.97e-01],\n",
       "       [6.60e+00, 5.20e-01, 2.20e+00, 6.90e-02, 8.00e+00, 3.40e+00,\n",
       "        9.96e-01],\n",
       "       [6.60e+00, 5.00e-01, 2.10e+00, 6.80e-02, 6.00e+00, 3.39e+00,\n",
       "        9.96e-01],\n",
       "       [8.60e+00, 3.80e-01, 3.00e+00, 8.10e-02, 3.00e+01, 3.20e+00,\n",
       "        9.97e-01],\n",
       "       [7.60e+00, 5.10e-01, 2.80e+00, 1.10e-01, 3.30e+01, 3.17e+00,\n",
       "        9.96e-01],\n",
       "       [7.70e+00, 6.20e-01, 3.80e+00, 8.40e-02, 2.50e+01, 3.34e+00,\n",
       "        9.98e-01],\n",
       "       [1.02e+01, 4.20e-01, 3.40e+00, 7.00e-02, 4.00e+00, 3.04e+00,\n",
       "        9.97e-01],\n",
       "       [7.50e+00, 6.30e-01, 5.10e+00, 1.11e-01, 5.00e+01, 3.26e+00,\n",
       "        9.98e-01],\n",
       "       [7.80e+00, 5.90e-01, 2.30e+00, 7.60e-02, 1.70e+01, 3.43e+00,\n",
       "        9.98e-01],\n",
       "       [7.30e+00, 3.90e-01, 2.40e+00, 7.40e-02, 9.00e+00, 3.41e+00,\n",
       "        9.96e-01],\n",
       "       [8.80e+00, 4.00e-01, 2.20e+00, 7.90e-02, 1.90e+01, 3.44e+00,\n",
       "        9.98e-01],\n",
       "       [7.70e+00, 6.90e-01, 1.80e+00, 1.15e-01, 2.00e+01, 3.21e+00,\n",
       "        9.97e-01],\n",
       "       [7.50e+00, 5.20e-01, 1.90e+00, 8.50e-02, 1.20e+01, 3.38e+00,\n",
       "        9.97e-01],\n",
       "       [7.00e+00, 7.35e-01, 2.00e+00, 8.10e-02, 1.30e+01, 3.39e+00,\n",
       "        9.97e-01],\n",
       "       [7.20e+00, 7.25e-01, 4.65e+00, 8.60e-02, 4.00e+00, 3.41e+00,\n",
       "        9.96e-01],\n",
       "       [7.20e+00, 7.25e-01, 4.65e+00, 8.60e-02, 4.00e+00, 3.41e+00,\n",
       "        9.96e-01],\n",
       "       [7.50e+00, 5.20e-01, 1.50e+00, 7.90e-02, 1.10e+01, 3.42e+00,\n",
       "        9.97e-01],\n",
       "       [6.60e+00, 7.05e-01, 1.60e+00, 7.60e-02, 6.00e+00, 3.44e+00,\n",
       "        9.96e-01],\n",
       "       [9.30e+00, 3.20e-01, 2.00e+00, 7.40e-02, 2.70e+01, 3.28e+00,\n",
       "        9.97e-01],\n",
       "       [8.00e+00, 7.05e-01, 1.90e+00, 7.40e-02, 8.00e+00, 3.34e+00,\n",
       "        9.96e-01],\n",
       "       [7.70e+00, 6.30e-01, 1.90e+00, 7.60e-02, 1.50e+01, 3.32e+00,\n",
       "        9.97e-01],\n",
       "       [7.70e+00, 6.70e-01, 2.10e+00, 8.80e-02, 1.70e+01, 3.32e+00,\n",
       "        9.96e-01],\n",
       "       [7.70e+00, 6.90e-01, 1.90e+00, 8.40e-02, 1.80e+01, 3.31e+00,\n",
       "        9.96e-01],\n",
       "       [8.30e+00, 6.75e-01, 2.10e+00, 8.40e-02, 1.10e+01, 3.31e+00,\n",
       "        9.98e-01],\n",
       "       [9.70e+00, 3.20e-01, 2.50e+00, 9.40e-02, 2.80e+01, 3.28e+00,\n",
       "        9.98e-01],\n",
       "       [8.80e+00, 4.10e-01, 2.20e+00, 9.30e-02, 9.00e+00, 3.54e+00,\n",
       "        9.99e-01],\n",
       "       [8.80e+00, 4.10e-01, 2.20e+00, 9.30e-02, 9.00e+00, 3.54e+00,\n",
       "        9.99e-01],\n",
       "       [6.80e+00, 7.85e-01, 2.40e+00, 1.04e-01, 1.40e+01, 3.52e+00,\n",
       "        9.97e-01],\n",
       "       [6.70e+00, 7.50e-01, 2.00e+00, 8.60e-02, 1.20e+01, 3.38e+00,\n",
       "        9.96e-01],\n",
       "       [8.30e+00, 6.25e-01, 1.50e+00, 8.00e-02, 2.70e+01, 3.16e+00,\n",
       "        9.97e-01],\n",
       "       [6.20e+00, 4.50e-01, 1.60e+00, 6.90e-02, 3.00e+00, 3.41e+00,\n",
       "        9.96e-01],\n",
       "       [7.80e+00, 4.30e-01, 1.90e+00, 4.64e-01, 2.20e+01, 3.13e+00,\n",
       "        9.97e-01],\n",
       "       [7.40e+00, 5.00e-01, 2.00e+00, 8.60e-02, 2.10e+01, 3.36e+00,\n",
       "        9.97e-01],\n",
       "       [7.30e+00, 6.70e-01, 1.80e+00, 4.01e-01, 1.60e+01, 3.16e+00,\n",
       "        9.97e-01],\n",
       "       [6.30e+00, 3.00e-01, 1.80e+00, 6.90e-02, 1.80e+01, 3.44e+00,\n",
       "        9.96e-01],\n",
       "       [6.90e+00, 5.50e-01, 2.20e+00, 7.60e-02, 1.90e+01, 3.41e+00,\n",
       "        9.96e-01],\n",
       "       [8.60e+00, 4.90e-01, 1.90e+00, 1.10e-01, 2.00e+01, 2.93e+00,\n",
       "        9.97e-01],\n",
       "       [7.70e+00, 4.90e-01, 1.90e+00, 6.20e-02, 9.00e+00, 3.39e+00,\n",
       "        9.97e-01],\n",
       "       [9.30e+00, 3.90e-01, 2.10e+00, 1.07e-01, 3.40e+01, 3.14e+00,\n",
       "        9.98e-01],\n",
       "       [7.00e+00, 6.20e-01, 1.80e+00, 7.60e-02, 8.00e+00, 3.48e+00,\n",
       "        9.98e-01],\n",
       "       [7.90e+00, 5.20e-01, 1.90e+00, 7.90e-02, 4.20e+01, 3.23e+00,\n",
       "        9.96e-01],\n",
       "       [8.60e+00, 4.90e-01, 1.90e+00, 1.10e-01, 2.00e+01, 2.93e+00,\n",
       "        9.97e-01],\n",
       "       [8.60e+00, 4.90e-01, 2.00e+00, 1.10e-01, 1.90e+01, 2.93e+00,\n",
       "        9.97e-01],\n",
       "       [7.70e+00, 4.90e-01, 1.90e+00, 6.20e-02, 9.00e+00, 3.39e+00,\n",
       "        9.97e-01],\n",
       "       [5.00e+00, 1.02e+00, 1.40e+00, 4.50e-02, 4.10e+01, 3.75e+00,\n",
       "        9.94e-01],\n",
       "       [4.70e+00, 6.00e-01, 2.30e+00, 5.80e-02, 1.70e+01, 3.85e+00,\n",
       "        9.93e-01],\n",
       "       [6.80e+00, 7.75e-01, 3.00e+00, 1.02e-01, 8.00e+00, 3.45e+00,\n",
       "        9.97e-01],\n",
       "       [7.00e+00, 5.00e-01, 2.00e+00, 7.00e-02, 3.00e+00, 3.25e+00,\n",
       "        9.96e-01],\n",
       "       [7.60e+00, 9.00e-01, 2.50e+00, 7.90e-02, 5.00e+00, 3.39e+00,\n",
       "        9.97e-01],\n",
       "       [8.10e+00, 5.45e-01, 1.90e+00, 8.00e-02, 1.30e+01, 3.30e+00,\n",
       "        9.97e-01]])"
      ]
     },
     "execution_count": 325,
     "metadata": {},
     "output_type": "execute_result"
    }
   ],
   "source": [
    "X = np.asarray(wine_df[['fixed acidity', 'volatile acidity', 'residual sugar', 'chlorides', 'free sulfur dioxide', 'pH', 'density']])\n",
    "X[0:100]"
   ]
  },
  {
   "cell_type": "code",
   "execution_count": 326,
   "metadata": {},
   "outputs": [
    {
     "data": {
      "text/plain": [
       "array([5, 5, 5, 6, 5, 5, 5, 7, 7, 5])"
      ]
     },
     "execution_count": 326,
     "metadata": {},
     "output_type": "execute_result"
    }
   ],
   "source": [
    "y = np.asarray(wine_df['quality'])\n",
    "y [0:10]"
   ]
  },
  {
   "cell_type": "code",
   "execution_count": 327,
   "metadata": {
    "scrolled": true
   },
   "outputs": [
    {
     "data": {
      "text/plain": [
       "array([[-0.53,  0.96, -0.45, -0.24, -0.47,  1.29,  0.56],\n",
       "       [-0.3 ,  1.97,  0.04,  0.22,  0.87, -0.72,  0.03],\n",
       "       [-0.3 ,  1.3 , -0.17,  0.1 , -0.08, -0.33,  0.13],\n",
       "       [ 1.65, -1.38, -0.45, -0.26,  0.11, -0.98,  0.66],\n",
       "       [-0.53,  0.96, -0.45, -0.24, -0.47,  1.29,  0.56],\n",
       "       [-0.53,  0.74, -0.52, -0.26, -0.27,  1.29,  0.56],\n",
       "       [-0.24,  0.4 , -0.67, -0.39, -0.08, -0.07, -0.18],\n",
       "       [-0.59,  0.68, -0.95, -0.48, -0.08,  0.51, -1.14],\n",
       "       [-0.3 ,  0.29, -0.38, -0.31, -0.66,  0.32,  0.03],\n",
       "       [-0.47, -0.16,  2.53, -0.35,  0.11,  0.25,  0.56]])"
      ]
     },
     "execution_count": 327,
     "metadata": {},
     "output_type": "execute_result"
    }
   ],
   "source": [
    "X = preprocessing.StandardScaler().fit(X).transform(X)\n",
    "X[0:10]"
   ]
  },
  {
   "cell_type": "code",
   "execution_count": 328,
   "metadata": {},
   "outputs": [
    {
     "name": "stdout",
     "output_type": "stream",
     "text": [
      "Dados de Treinamento: (799, 7) (799,)\n",
      "Dados de Validação: (800, 7) (800,)\n"
     ]
    }
   ],
   "source": [
    "X_train, X_test, y_train, y_test = train_test_split( X, y, test_size=0.5, random_state=4)\n",
    "print ('Dados de Treinamento:', X_train.shape,  y_train.shape)\n",
    "print ('Dados de Validação:', X_test.shape,  y_test.shape)"
   ]
  },
  {
   "cell_type": "code",
   "execution_count": 329,
   "metadata": {},
   "outputs": [
    {
     "data": {
      "text/plain": [
       "LogisticRegression(C=0.01, class_weight=None, dual=False, fit_intercept=True,\n",
       "          intercept_scaling=1, max_iter=100, multi_class='ovr', n_jobs=1,\n",
       "          penalty='l2', random_state=None, solver='sag', tol=0.0001,\n",
       "          verbose=0, warm_start=False)"
      ]
     },
     "execution_count": 329,
     "metadata": {},
     "output_type": "execute_result"
    }
   ],
   "source": [
    "RL = LogisticRegression(C=0.01, solver='sag').fit(X_train,y_train)\n",
    "RL"
   ]
  },
  {
   "cell_type": "code",
   "execution_count": 330,
   "metadata": {},
   "outputs": [
    {
     "data": {
      "text/plain": [
       "array([5, 5, 6, 6, 5, 5, 5, 5, 5, 6, 6, 6, 6, 6, 5, 5, 5, 6, 5, 5, 6, 6,\n",
       "       5, 5, 6, 5, 6, 5, 6, 6, 6, 5, 6, 5, 5, 5, 6, 6, 6, 5, 6, 6, 6, 6,\n",
       "       5, 6, 5, 5, 5, 5, 6, 6, 5, 6, 6, 6, 6, 5, 5, 6, 6, 6, 6, 5, 5, 5,\n",
       "       6, 6, 5, 5, 6, 5, 6, 6, 5, 5, 5, 5, 5, 5, 6, 5, 5, 5, 6, 5, 6, 5,\n",
       "       6, 5, 5, 6, 5, 5, 6, 6, 5, 6, 6, 6, 5, 6, 6, 5, 5, 5, 6, 5, 5, 5,\n",
       "       5, 6, 5, 6, 6, 6, 6, 6, 6, 6, 5, 5, 6, 5, 6, 6, 6, 6, 6, 5, 5, 5,\n",
       "       5, 6, 6, 5, 5, 5, 6, 6, 6, 5, 6, 5, 5, 6, 6, 6, 6, 5, 6, 5, 6, 6,\n",
       "       5, 5, 5, 5, 5, 6, 6, 5, 6, 5, 5, 6, 6, 5, 5, 6, 5, 6, 5, 5, 5, 5,\n",
       "       6, 6, 5, 5, 5, 5, 6, 5, 6, 5, 6, 6, 6, 5, 6, 5, 5, 6, 6, 6, 6, 5,\n",
       "       6, 5, 6, 5, 5, 5, 6, 5, 5, 5, 6, 5, 6, 6, 6, 6, 5, 6, 5, 6, 6, 5,\n",
       "       5, 5, 6, 5, 6, 5, 5, 5, 5, 5, 5, 6, 6, 6, 5, 5, 5, 5, 6, 6, 5, 5,\n",
       "       6, 5, 5, 5, 5, 6, 5, 6, 5, 5, 6, 5, 5, 6, 5, 5, 5, 6, 5, 6, 5, 5,\n",
       "       5, 5, 5, 5, 5, 5, 6, 6, 5, 5, 5, 6, 5, 5, 6, 5, 5, 5, 5, 5, 5, 5,\n",
       "       5, 6, 5, 5, 5, 6, 6, 5, 6, 5, 5, 5, 5, 5, 6, 5, 5, 6, 6, 6, 6, 5,\n",
       "       5, 5, 6, 5, 6, 5, 5, 5, 6, 5, 5, 6, 6, 6, 6, 6, 5, 5, 6, 6, 6, 5,\n",
       "       6, 5, 6, 5, 5, 6, 6, 6, 5, 5, 6, 5, 5, 5, 5, 5, 5, 5, 5, 5, 5, 6,\n",
       "       5, 5, 5, 5, 5, 5, 5, 5, 6, 5, 5, 5, 6, 6, 5, 6, 6, 5, 6, 6, 6, 6,\n",
       "       5, 5, 5, 5, 6, 5, 5, 6, 5, 6, 6, 5, 5, 5, 6, 6, 5, 5, 5, 5, 5, 6,\n",
       "       5, 5, 6, 5, 5, 5, 5, 6, 5, 6, 5, 6, 5, 6, 5, 5, 6, 5, 5, 6, 6, 5,\n",
       "       6, 5, 5, 6, 5, 5, 6, 5, 5, 5, 5, 6, 5, 5, 5, 5, 6, 5, 5, 5, 5, 6,\n",
       "       5, 6, 6, 5, 6, 6, 6, 5, 5, 5, 6, 6, 5, 5, 5, 5, 5, 6, 5, 5, 6, 6,\n",
       "       5, 6, 5, 5, 5, 5, 6, 5, 5, 6, 6, 5, 6, 6, 5, 5, 6, 5, 5, 6, 5, 5,\n",
       "       5, 5, 5, 5, 5, 6, 5, 5, 5, 6, 6, 6, 6, 5, 6, 5, 6, 5, 5, 5, 5, 5,\n",
       "       6, 6, 6, 6, 6, 5, 6, 5, 5, 6, 6, 5, 5, 6, 5, 6, 6, 5, 6, 5, 6, 5,\n",
       "       6, 6, 6, 5, 6, 6, 5, 5, 6, 6, 6, 6, 6, 5, 6, 5, 5, 5, 5, 6, 5, 5,\n",
       "       5, 5, 5, 5, 5, 5, 6, 6, 5, 6, 6, 5, 5, 6, 5, 5, 5, 5, 5, 5, 6, 5,\n",
       "       5, 5, 5, 5, 5, 5, 5, 5, 5, 6, 6, 6, 5, 5, 5, 6, 6, 5, 5, 5, 5, 5,\n",
       "       6, 6, 6, 5, 5, 5, 5, 5, 6, 6, 5, 5, 5, 5, 5, 5, 5, 5, 6, 5, 6, 6,\n",
       "       5, 6, 6, 6, 5, 5, 6, 6, 5, 6, 6, 5, 5, 5, 6, 5, 6, 5, 6, 6, 5, 5,\n",
       "       5, 5, 5, 5, 5, 5, 5, 5, 5, 5, 5, 6, 5, 6, 5, 6, 5, 5, 6, 5, 5, 6,\n",
       "       5, 6, 5, 6, 6, 6, 5, 6, 5, 5, 6, 5, 6, 6, 5, 6, 5, 5, 6, 6, 6, 5,\n",
       "       5, 5, 6, 6, 5, 5, 5, 5, 6, 5, 5, 6, 6, 5, 5, 5, 6, 6, 5, 6, 6, 5,\n",
       "       5, 6, 5, 5, 6, 5, 5, 6, 5, 5, 6, 5, 5, 5, 5, 6, 5, 5, 5, 6, 5, 5,\n",
       "       6, 5, 6, 6, 5, 5, 5, 6, 6, 5, 6, 5, 5, 5, 5, 5, 6, 5, 5, 5, 5, 6,\n",
       "       5, 6, 6, 5, 6, 6, 5, 5, 5, 6, 5, 5, 6, 6, 5, 6, 5, 5, 5, 5, 5, 5,\n",
       "       6, 6, 6, 5, 6, 5, 6, 6, 5, 5, 6, 6, 5, 5, 5, 6, 6, 5, 6, 5, 5, 5,\n",
       "       5, 5, 5, 6, 5, 5, 5, 6])"
      ]
     },
     "execution_count": 330,
     "metadata": {},
     "output_type": "execute_result"
    }
   ],
   "source": [
    "yhat = RL.predict(X_test)\n",
    "yhat"
   ]
  },
  {
   "cell_type": "code",
   "execution_count": 331,
   "metadata": {},
   "outputs": [
    {
     "data": {
      "text/plain": [
       "array([[0.01, 0.02, 0.47, 0.39, 0.1 , 0.01],\n",
       "       [0.01, 0.04, 0.47, 0.37, 0.1 , 0.01],\n",
       "       [0.01, 0.03, 0.25, 0.47, 0.23, 0.01],\n",
       "       ...,\n",
       "       [0.01, 0.03, 0.46, 0.38, 0.11, 0.01],\n",
       "       [0.01, 0.03, 0.42, 0.38, 0.14, 0.01],\n",
       "       [0.01, 0.04, 0.35, 0.45, 0.14, 0.01]])"
      ]
     },
     "execution_count": 331,
     "metadata": {},
     "output_type": "execute_result"
    }
   ],
   "source": [
    "yhat_prob = RL.predict_proba(X_test)\n",
    "yhat_prob"
   ]
  },
  {
   "cell_type": "code",
   "execution_count": 332,
   "metadata": {},
   "outputs": [
    {
     "data": {
      "text/plain": [
       "0.52125"
      ]
     },
     "execution_count": 332,
     "metadata": {},
     "output_type": "execute_result"
    }
   ],
   "source": [
    "from sklearn.metrics import jaccard_similarity_score\n",
    "jaccard_similarity_score(y_test, yhat)"
   ]
  },
  {
   "attachments": {
    "image.png": {
     "image/png": "[encoded data removed]"
    }
   },
   "cell_type": "markdown",
   "metadata": {},
   "source": [
    "## Matriz de confusão\n",
    "\n",
    "É um tabela que mostra as frequências de classificação para cada classe do modelo.\n",
    "\n",
    "![image.png](attachment:image.png)"
   ]
  },
  {
   "cell_type": "code",
   "execution_count": 333,
   "metadata": {},
   "outputs": [
    {
     "name": "stdout",
     "output_type": "stream",
     "text": [
      "[[262  76]\n",
      " [169 155]]\n"
     ]
    }
   ],
   "source": [
    "from sklearn.metrics import classification_report, confusion_matrix\n",
    "import itertools\n",
    "\n",
    "def plot_confusion_matrix(cm, classes,\n",
    "                          normalize=False,\n",
    "                          title='Matriz de Confusão',\n",
    "                          cmap=plt.cm.Blues):\n",
    "    \"\"\"\n",
    "    Esta função imprime e plota a matriz de confusão.\n",
    "    A normalização pode ser aplicada configurando 'normalize = True'.\n",
    "    \"\"\"\n",
    "    if normalize:\n",
    "        cm = cm.astype('float') / cm.sum(axis=1)[:, np.newaxis]\n",
    "        print(\"Matriz de confusão normalizada\")\n",
    "    else:\n",
    "        print(\"Matriz de confusão, sem normalização\")\n",
    "\n",
    "    print(cm)\n",
    "\n",
    "    plt.imshow(cm, interpolation='nearest', cmap=cmap)\n",
    "    plt.title(title)\n",
    "    plt.colorbar()\n",
    "    tick_marks = np.arange(len(classes))\n",
    "    plt.xticks(tick_marks, classes, rotation=45)\n",
    "    plt.yticks(tick_marks, classes)\n",
    "\n",
    "    fmt = '.2f' if normalize else 'd'\n",
    "    thresh = cm.max() / 2.\n",
    "    for i, j in itertools.product(range(cm.shape[0]), range(cm.shape[1])):\n",
    "        plt.text(j, i, format(cm[i, j], fmt),\n",
    "                 horizontalalignment=\"center\",\n",
    "                 color=\"white\" if cm[i, j] > thresh else \"black\")\n",
    "\n",
    "    plt.tight_layout()\n",
    "    plt.ylabel('Valor Verdadeiro')\n",
    "    plt.xlabel('Valor Previsto')\n",
    "print(confusion_matrix(y_test, yhat, labels=[5,6]))"
   ]
  },
  {
   "cell_type": "code",
   "execution_count": 334,
   "metadata": {},
   "outputs": [
    {
     "name": "stdout",
     "output_type": "stream",
     "text": [
      "Matriz de confusão, sem normalização\n",
      "[[262  76]\n",
      " [169 155]]\n"
     ]
    },
    {
     "data": {
      "image/png": "[encoded data removed]",
      "text/plain": [
       "<Figure size 432x288 with 2 Axes>"
      ]
     },
     "metadata": {},
     "output_type": "display_data"
    }
   ],
   "source": [
    "# Calcula a Matriz de Confusão\n",
    "cnf_matrix = confusion_matrix(y_test, yhat, labels=[5,6])\n",
    "np.set_printoptions(precision=2)\n",
    "\n",
    "\n",
    "# Plota a Matriz de Confusão não-normalizada\n",
    "plt.figure()\n",
    "plot_confusion_matrix(cnf_matrix, classes=['quality=5','quality=6'],normalize= False,  title='Matriz de Confusão')"
   ]
  },
  {
   "cell_type": "code",
   "execution_count": 335,
   "metadata": {},
   "outputs": [
    {
     "name": "stdout",
     "output_type": "stream",
     "text": [
      "             precision    recall  f1-score   support\n",
      "\n",
      "          3       0.00      0.00      0.00         4\n",
      "          4       0.00      0.00      0.00        27\n",
      "          5       0.55      0.78      0.64       338\n",
      "          6       0.48      0.48      0.48       324\n",
      "          7       0.00      0.00      0.00        99\n",
      "          8       0.00      0.00      0.00         8\n",
      "\n",
      "avg / total       0.43      0.52      0.47       800\n",
      "\n"
     ]
    },
    {
     "name": "stderr",
     "output_type": "stream",
     "text": [
      "S:\\ProgramData\\Anaconda3\\lib\\site-packages\\sklearn\\metrics\\classification.py:1135: UndefinedMetricWarning: Precision and F-score are ill-defined and being set to 0.0 in labels with no predicted samples.\n",
      "  'precision', 'predicted', average, warn_for)\n"
     ]
    }
   ],
   "source": [
    "print (classification_report(y_test, yhat))"
   ]
  },
  {
   "cell_type": "markdown",
   "metadata": {},
   "source": [
    "<h1><center>Classificação: Árvore de Decisão</center></h1>"
   ]
  },
  {
   "attachments": {
    "image.png": {
     "image/png": "[encoded data removed]"
    }
   },
   "cell_type": "markdown",
   "metadata": {},
   "source": [
    "Nessa segunda parte será construido um modelo de classificação com a teoria de árovre de decisão\n",
    "\n",
    "![image.png](attachment:image.png)"
   ]
  },
  {
   "cell_type": "code",
   "execution_count": 336,
   "metadata": {},
   "outputs": [
    {
     "data": {
      "text/plain": [
       "array([[ 7.4 ,  0.7 ,  1.9 ,  0.08, 11.  ,  3.51,  1.  ,  0.56],\n",
       "       [ 7.8 ,  0.88,  2.6 ,  0.1 , 25.  ,  3.2 ,  1.  ,  0.68],\n",
       "       [ 7.8 ,  0.76,  2.3 ,  0.09, 15.  ,  3.26,  1.  ,  0.65],\n",
       "       [11.2 ,  0.28,  1.9 ,  0.07, 17.  ,  3.16,  1.  ,  0.58],\n",
       "       [ 7.4 ,  0.7 ,  1.9 ,  0.08, 11.  ,  3.51,  1.  ,  0.56],\n",
       "       [ 7.4 ,  0.66,  1.8 ,  0.07, 13.  ,  3.51,  1.  ,  0.56],\n",
       "       [ 7.9 ,  0.6 ,  1.6 ,  0.07, 15.  ,  3.3 ,  1.  ,  0.46],\n",
       "       [ 7.3 ,  0.65,  1.2 ,  0.07, 15.  ,  3.39,  0.99,  0.47],\n",
       "       [ 7.8 ,  0.58,  2.  ,  0.07,  9.  ,  3.36,  1.  ,  0.57]])"
      ]
     },
     "execution_count": 336,
     "metadata": {},
     "output_type": "execute_result"
    }
   ],
   "source": [
    "X = wine_df[['fixed acidity', 'volatile acidity', 'residual sugar', 'chlorides', 'free sulfur dioxide', 'pH', 'density', 'sulphates']].values\n",
    "X[0:9]"
   ]
  },
  {
   "cell_type": "code",
   "execution_count": 337,
   "metadata": {
    "scrolled": true
   },
   "outputs": [
    {
     "data": {
      "text/plain": [
       "0    5\n",
       "1    5\n",
       "2    5\n",
       "3    6\n",
       "4    5\n",
       "Name: quality, dtype: int32"
      ]
     },
     "execution_count": 337,
     "metadata": {},
     "output_type": "execute_result"
    }
   ],
   "source": [
    "y = wine_df[\"quality\"]\n",
    "y[0:5]"
   ]
  },
  {
   "cell_type": "code",
   "execution_count": 338,
   "metadata": {},
   "outputs": [],
   "source": [
    "from sklearn.model_selection import train_test_split"
   ]
  },
  {
   "cell_type": "code",
   "execution_count": 339,
   "metadata": {},
   "outputs": [],
   "source": [
    "X_trainset, X_testset, y_trainset, y_testset = train_test_split(X, y, test_size=0.3, random_state=3)"
   ]
  },
  {
   "cell_type": "code",
   "execution_count": 340,
   "metadata": {},
   "outputs": [
    {
     "data": {
      "text/plain": [
       "DecisionTreeClassifier(class_weight=None, criterion='entropy', max_depth=60,\n",
       "            max_features=None, max_leaf_nodes=None,\n",
       "            min_impurity_decrease=0.0, min_impurity_split=None,\n",
       "            min_samples_leaf=1, min_samples_split=2,\n",
       "            min_weight_fraction_leaf=0.0, presort=False, random_state=None,\n",
       "            splitter='best')"
      ]
     },
     "execution_count": 340,
     "metadata": {},
     "output_type": "execute_result"
    }
   ],
   "source": [
    "wineQuality = DecisionTreeClassifier(criterion=\"entropy\", max_depth = 60)\n",
    "wineQuality"
   ]
  },
  {
   "cell_type": "code",
   "execution_count": 341,
   "metadata": {},
   "outputs": [],
   "source": [
    "wineQuality.fit(X_trainset,y_trainset)\n",
    "predTree = wineQuality.predict(X_testset)"
   ]
  },
  {
   "cell_type": "code",
   "execution_count": 342,
   "metadata": {},
   "outputs": [
    {
     "name": "stdout",
     "output_type": "stream",
     "text": [
      "[5 5 6 8 5]\n",
      "147     5\n",
      "937     4\n",
      "877     6\n",
      "1000    7\n",
      "73      4\n",
      "Name: quality, dtype: int32\n"
     ]
    }
   ],
   "source": [
    "print (predTree [0:5])\n",
    "print (y_testset [0:5])"
   ]
  },
  {
   "cell_type": "code",
   "execution_count": 343,
   "metadata": {},
   "outputs": [
    {
     "name": "stdout",
     "output_type": "stream",
     "text": [
      "Precisão da Árvore de Decisão:  0.5875\n"
     ]
    }
   ],
   "source": [
    "from sklearn import metrics\n",
    "import matplotlib.pyplot as plt\n",
    "print(\"Precisão da Árvore de Decisão: \", metrics.accuracy_score(y_testset, predTree))"
   ]
  }
 ],
 "metadata": {
  "kernelspec": {
   "display_name": "Python 3",
   "language": "python",
   "name": "python3"
  },
  "language_info": {
   "codemirror_mode": {
    "name": "ipython",
    "version": 3
   },
   "file_extension": ".py",
   "mimetype": "text/x-python",
   "name": "python",
   "nbconvert_exporter": "python",
   "pygments_lexer": "ipython3",
   "version": "3.6.5"
  }
 },
 "nbformat": 4,
 "nbformat_minor": 2
}
